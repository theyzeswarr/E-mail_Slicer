{
  "nbformat": 4,
  "nbformat_minor": 0,
  "metadata": {
    "colab": {
      "provenance": []
    },
    "kernelspec": {
      "name": "python3",
      "display_name": "Python 3"
    },
    "language_info": {
      "name": "python"
    }
  },
  "cells": [
    {
      "cell_type": "code",
      "execution_count": 29,
      "metadata": {
        "id": "OyaBgglUGS7o"
      },
      "outputs": [],
      "source": [
        "import pandas as pd\n",
        "from flask import Flask, render_template, request, send_file"
      ]
    },
    {
      "cell_type": "code",
      "source": [
        "app = Flask(__name__)"
      ],
      "metadata": {
        "id": "X6QywYiEGUGS"
      },
      "execution_count": 30,
      "outputs": []
    },
    {
      "cell_type": "code",
      "source": [
        "def email_slicer(email):\n",
        "    username, domain = email.split(\"@\")\n",
        "    return f\"Username: {username}\\nDomain: {domain}\\n\""
      ],
      "metadata": {
        "id": "oDBfLY_mHXMF"
      },
      "execution_count": 31,
      "outputs": []
    },
    {
      "cell_type": "code",
      "source": [
        "def process():\n",
        "    input_file = request.files['inputFile']\n",
        "    output_file = \"output.xlsx\"\n",
        "    df = pd.read_csv(\"email.csv\")\n",
        "    emails = df['E-Mails']\n",
        "    df[['Username', 'Domain']] = pd.DataFrame(emails.apply(email_slicer).tolist(), index=df.index)\n",
        "    df.to_excel(output_file, index=False)\n",
        "    return send_file(output_file, as_attachment=True)"
      ],
      "metadata": {
        "id": "Y7x6t0nUIZTk"
      },
      "execution_count": 34,
      "outputs": []
    },
    {
      "cell_type": "code",
      "source": [
        "if __name__ == '__main__':\n",
        "    app.run()"
      ],
      "metadata": {
        "colab": {
          "base_uri": "https://localhost:8080/"
        },
        "id": "pVS6V2YrIft5",
        "outputId": "4587a246-d7e5-4a99-e871-ac018af9bc9c"
      },
      "execution_count": null,
      "outputs": [
        {
          "output_type": "stream",
          "name": "stdout",
          "text": [
            " * Serving Flask app '__main__'\n",
            " * Debug mode: off\n"
          ]
        },
        {
          "output_type": "stream",
          "name": "stderr",
          "text": [
            "INFO:werkzeug:\u001b[31m\u001b[1mWARNING: This is a development server. Do not use it in a production deployment. Use a production WSGI server instead.\u001b[0m\n",
            " * Running on http://127.0.0.1:5000\n",
            "INFO:werkzeug:\u001b[33mPress CTRL+C to quit\u001b[0m\n"
          ]
        }
      ]
    }
  ]
}